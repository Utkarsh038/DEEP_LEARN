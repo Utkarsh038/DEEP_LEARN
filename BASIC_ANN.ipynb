{
  "nbformat": 4,
  "nbformat_minor": 0,
  "metadata": {
    "colab": {
      "provenance": [],
      "authorship_tag": "ABX9TyM4w75VKlQoLlcxXXLY9yVT",
      "include_colab_link": true
    },
    "kernelspec": {
      "name": "python3",
      "display_name": "Python 3"
    },
    "language_info": {
      "name": "python"
    }
  },
  "cells": [
    {
      "cell_type": "markdown",
      "metadata": {
        "id": "view-in-github",
        "colab_type": "text"
      },
      "source": [
        "<a href=\"https://colab.research.google.com/github/Utkarsh038/DEEP_LEARN/blob/main/BASIC_ANN.ipynb\" target=\"_parent\"><img src=\"https://colab.research.google.com/assets/colab-badge.svg\" alt=\"Open In Colab\"/></a>"
      ]
    },
    {
      "cell_type": "markdown",
      "source": [
        "1.1 Artificial Neurons\n",
        "An artificial neuron mimics the behavior of a biological neuron using mathematical computations.\n",
        "\n",
        "Example 1:\n",
        "\n",
        "Biological Neuron vs. Artificial Neuron\n",
        "\n",
        "A biological neuron takes input signals through dendrites, processes them, and sends an output through axons. Similarly, an artificial neuron takes numerical inputs, applies weights, adds bias, and passes through an activation function."
      ],
      "metadata": {
        "id": "Xxy_MXR28TBB"
      }
    },
    {
      "cell_type": "code",
      "source": [
        "import numpy as np\n",
        "\n",
        "# An artificial neuron computes a weighted sum and applies an activation function\n",
        "# एक कृत्रिम न्यूरॉन इनपुट का भारित योग (weighted sum) निकालता है और उसे एक फंक्शन से पास करता है\n",
        "\n",
        "inputs = np.array([0.5, 0.3])  # Inputs to the neuron (न्यूरॉन को दिए गए इनपुट)\n",
        "weights = np.array([0.8, 0.2])  # Weights assigned to inputs (इनपुट पर दिए गए वेट्स)\n",
        "bias = 0.1  # Bias term (पूर्वाग्रह - Bias जो आउटपुट को शिफ्ट करता है)\n",
        "\n",
        "# Compute weighted sum (भारित योग निकालना)\n",
        "output = np.dot(inputs, weights) + bias\n",
        "print(\"Neuron Output:\", output)  # Display output (आउटपुट दिखाएं)\n",
        "\n"
      ],
      "metadata": {
        "colab": {
          "base_uri": "https://localhost:8080/"
        },
        "id": "G-iF6AXo8UGO",
        "outputId": "c86ed7b0-93e5-4b36-9766-797a79e57799"
      },
      "execution_count": 8,
      "outputs": [
        {
          "output_type": "stream",
          "name": "stdout",
          "text": [
            "Neuron Output: 0.56\n"
          ]
        }
      ]
    },
    {
      "cell_type": "markdown",
      "source": [
        "Example 2: Activation Functions\n",
        "Let's apply different activation functions to the output of an artificial neuron."
      ],
      "metadata": {
        "id": "-IdloZXL82PX"
      }
    },
    {
      "cell_type": "code",
      "source": [
        "import numpy as np\n",
        "\n",
        "# Different activation functions control how a neuron fires.\n",
        "# विभिन्न Activation फ़ंक्शन यह निर्धारित करते हैं कि न्यूरॉन कब और कैसे फायर करेगा।\n",
        "\n",
        "def sigmoid(x):\n",
        "    return 1 / (1 + np.exp(-x))  # Sigmoid function (आउटपुट को 0 और 1 के बीच स्केल करता है)\n",
        "\n",
        "def relu(x):\n",
        "    return np.maximum(0, x)  # ReLU function (Negative values को 0 बना देता है)\n",
        "\n",
        "def tanh(x):\n",
        "    return np.tanh(x)  # Tanh function (आउटपुट -1 से 1 के बीच देता है)\n",
        "\n",
        "def softmax(x):\n",
        "    exp_x = np.exp(x - np.max(x))  # Softmax function (मल्टी-क्लास प्रेडिक्शन के लिए)\n",
        "    return exp_x / exp_x.sum()\n",
        "\n",
        "x = np.array([1.0, 2.0, -1.0])  # Input values (न्यूरॉन में जाने वाले इनपुट)\n",
        "\n",
        "print(\"Sigmoid:\", sigmoid(x))  # Print sigmoid output (सिग्मॉइड का आउटपुट)\n",
        "print(\"ReLU:\", relu(x))  # Print ReLU output (ReLU का आउटपुट)\n",
        "print(\"Tanh:\", tanh(x))  # Print Tanh output (Tanh का आउटपुट)\n",
        "print(\"Softmax:\", softmax(x))  # Print Softmax output (Softmax का आउटपुट)\n",
        "\n"
      ],
      "metadata": {
        "colab": {
          "base_uri": "https://localhost:8080/"
        },
        "id": "zjLB1TPD86Ee",
        "outputId": "3be0ae19-e397-4a94-a6ae-821a2f02e6db"
      },
      "execution_count": 9,
      "outputs": [
        {
          "output_type": "stream",
          "name": "stdout",
          "text": [
            "Sigmoid: [0.73105858 0.88079708 0.26894142]\n",
            "ReLU: [1. 2. 0.]\n",
            "Tanh: [ 0.76159416  0.96402758 -0.76159416]\n",
            "Softmax: [0.25949646 0.70538451 0.03511903]\n"
          ]
        }
      ]
    },
    {
      "cell_type": "markdown",
      "source": [
        "1.2 Computational Models of Neurons\n",
        "An artificial neuron follows this equation:\n",
        "\n",
        "\n",
        "    \n",
        "𝑦\n",
        "=\n",
        "𝑓\n",
        "(\n",
        "∑\n",
        "(\n",
        "𝑤\n",
        "𝑖\n",
        "𝑥\n",
        "𝑖\n",
        ")\n",
        "+\n",
        "𝑏\n",
        ")\n",
        "y=f(∑(w\n",
        "i\n",
        "​\n",
        " x\n",
        "i\n",
        "​\n",
        " )+b)\n",
        "\n",
        "\n",
        "\n",
        "Example 3: Weighted Sum and Bias"
      ],
      "metadata": {
        "id": "RqvVPh_d9Caf"
      }
    },
    {
      "cell_type": "code",
      "source": [
        "inputs = np.array([0.2, 0.8, -0.5])  # Input values (इनपुट्स)\n",
        "weights = np.array([0.3, -0.2, 0.5])  # Weights assigned to inputs (वेट्स)\n",
        "bias = 0.1  # Bias (Bias वैल्यू जो एडजस्टमेंट के लिए दी जाती है)\n",
        "\n",
        "# Compute weighted sum (वेटेड सम निकालना)\n",
        "weighted_sum = np.dot(inputs, weights) + bias\n",
        "print(\"Weighted Sum:\", weighted_sum)  # Print the output (आउटपुट दिखाना)\n",
        "\n"
      ],
      "metadata": {
        "colab": {
          "base_uri": "https://localhost:8080/"
        },
        "id": "3Etrsuvr9Oon",
        "outputId": "60033bfc-87cc-4fc5-ea81-2777878dda22"
      },
      "execution_count": 10,
      "outputs": [
        {
          "output_type": "stream",
          "name": "stdout",
          "text": [
            "Weighted Sum: -0.25\n"
          ]
        }
      ]
    },
    {
      "cell_type": "markdown",
      "source": [
        "Example 4: Gradient Descent Intuition\n",
        "Gradient descent updates weights to minimize loss in machine learning."
      ],
      "metadata": {
        "id": "A7_vxeAw-MAV"
      }
    },
    {
      "cell_type": "code",
      "source": [
        "def gradient_descent(learning_rate=0.1, epochs=10):\n",
        "    # Initialize weight (शुरुआती वेट)\n",
        "    w = 5\n",
        "\n",
        "    for i in range(epochs):  # Run for multiple epochs (कई बार अपडेट करें)\n",
        "        gradient = 2 * w  # Compute derivative (डेरिवेटिव निकालना)\n",
        "        w = w - learning_rate * gradient  # Update weight (वेट अपडेट करना)\n",
        "        print(f\"Epoch {i+1}: w = {w}\")  # Print weight after update (अपडेट के बाद वेट दिखाएं)\n",
        "\n",
        "gradient_descent()  # Run the function (फंक्शन को चलाएं)\n"
      ],
      "metadata": {
        "colab": {
          "base_uri": "https://localhost:8080/"
        },
        "id": "B75Awhy4-Qov",
        "outputId": "a0b41f97-8135-4ea8-dadb-ebe463d4d4da"
      },
      "execution_count": 11,
      "outputs": [
        {
          "output_type": "stream",
          "name": "stdout",
          "text": [
            "Epoch 1: w = 4.0\n",
            "Epoch 2: w = 3.2\n",
            "Epoch 3: w = 2.56\n",
            "Epoch 4: w = 2.048\n",
            "Epoch 5: w = 1.6384\n",
            "Epoch 6: w = 1.31072\n",
            "Epoch 7: w = 1.0485760000000002\n",
            "Epoch 8: w = 0.8388608000000002\n",
            "Epoch 9: w = 0.6710886400000001\n",
            "Epoch 10: w = 0.5368709120000001\n"
          ]
        }
      ]
    },
    {
      "cell_type": "markdown",
      "source": [],
      "metadata": {
        "id": "N92N3c0E_or6"
      }
    },
    {
      "cell_type": "markdown",
      "source": [
        "1.3 Structure of Neural Networks\n",
        "Neural networks have three main layers:\n",
        "\n",
        "Input Layer: Takes raw data.\n",
        "Hidden Layers: Perform computations.\n",
        "Output Layer: Generates final predictions.\n",
        "Example 5: Creating a Simple Neural Network with TensorFlow"
      ],
      "metadata": {
        "id": "hYLbsYh4_o7A"
      }
    },
    {
      "cell_type": "code",
      "source": [
        "import tensorflow as tf\n",
        "from tensorflow import keras\n",
        "\n",
        "# Creating a basic ANN model\n",
        "# एक साधारण न्यूरल नेटवर्क मॉडल तैयार कर रहे हैं\n",
        "\n",
        "model = keras.Sequential([\n",
        "    keras.layers.Dense(4, activation='relu', input_shape=(3,)),  # Hidden Layer (छुपी हुई लेयर)\n",
        "    keras.layers.Dense(1, activation='sigmoid')  # Output Layer (आउटपुट लेयर)\n",
        "])\n",
        "\n",
        "# Compile the model (मॉडल को संकलित करना)\n",
        "model.compile(optimizer='adam', loss='binary_crossentropy', metrics=['accuracy'])\n",
        "\n",
        "# Display model structure (मॉडल की संरचना दिखाएं)\n",
        "model.summary()\n"
      ],
      "metadata": {
        "colab": {
          "base_uri": "https://localhost:8080/",
          "height": 193
        },
        "id": "g3FIc1Cw_tfo",
        "outputId": "5a2aa5b1-7ad2-4b0c-ba67-d690c1649aa9"
      },
      "execution_count": 12,
      "outputs": [
        {
          "output_type": "display_data",
          "data": {
            "text/plain": [
              "\u001b[1mModel: \"sequential_4\"\u001b[0m\n"
            ],
            "text/html": [
              "<pre style=\"white-space:pre;overflow-x:auto;line-height:normal;font-family:Menlo,'DejaVu Sans Mono',consolas,'Courier New',monospace\"><span style=\"font-weight: bold\">Model: \"sequential_4\"</span>\n",
              "</pre>\n"
            ]
          },
          "metadata": {}
        },
        {
          "output_type": "display_data",
          "data": {
            "text/plain": [
              "┏━━━━━━━━━━━━━━━━━━━━━━━━━━━━━━━━━━━━━━┳━━━━━━━━━━━━━━━━━━━━━━━━━━━━━┳━━━━━━━━━━━━━━━━━┓\n",
              "┃\u001b[1m \u001b[0m\u001b[1mLayer (type)                        \u001b[0m\u001b[1m \u001b[0m┃\u001b[1m \u001b[0m\u001b[1mOutput Shape               \u001b[0m\u001b[1m \u001b[0m┃\u001b[1m \u001b[0m\u001b[1m        Param #\u001b[0m\u001b[1m \u001b[0m┃\n",
              "┡━━━━━━━━━━━━━━━━━━━━━━━━━━━━━━━━━━━━━━╇━━━━━━━━━━━━━━━━━━━━━━━━━━━━━╇━━━━━━━━━━━━━━━━━┩\n",
              "│ dense_6 (\u001b[38;5;33mDense\u001b[0m)                      │ (\u001b[38;5;45mNone\u001b[0m, \u001b[38;5;34m4\u001b[0m)                   │              \u001b[38;5;34m16\u001b[0m │\n",
              "├──────────────────────────────────────┼─────────────────────────────┼─────────────────┤\n",
              "│ dense_7 (\u001b[38;5;33mDense\u001b[0m)                      │ (\u001b[38;5;45mNone\u001b[0m, \u001b[38;5;34m1\u001b[0m)                   │               \u001b[38;5;34m5\u001b[0m │\n",
              "└──────────────────────────────────────┴─────────────────────────────┴─────────────────┘\n"
            ],
            "text/html": [
              "<pre style=\"white-space:pre;overflow-x:auto;line-height:normal;font-family:Menlo,'DejaVu Sans Mono',consolas,'Courier New',monospace\">┏━━━━━━━━━━━━━━━━━━━━━━━━━━━━━━━━━━━━━━┳━━━━━━━━━━━━━━━━━━━━━━━━━━━━━┳━━━━━━━━━━━━━━━━━┓\n",
              "┃<span style=\"font-weight: bold\"> Layer (type)                         </span>┃<span style=\"font-weight: bold\"> Output Shape                </span>┃<span style=\"font-weight: bold\">         Param # </span>┃\n",
              "┡━━━━━━━━━━━━━━━━━━━━━━━━━━━━━━━━━━━━━━╇━━━━━━━━━━━━━━━━━━━━━━━━━━━━━╇━━━━━━━━━━━━━━━━━┩\n",
              "│ dense_6 (<span style=\"color: #0087ff; text-decoration-color: #0087ff\">Dense</span>)                      │ (<span style=\"color: #00d7ff; text-decoration-color: #00d7ff\">None</span>, <span style=\"color: #00af00; text-decoration-color: #00af00\">4</span>)                   │              <span style=\"color: #00af00; text-decoration-color: #00af00\">16</span> │\n",
              "├──────────────────────────────────────┼─────────────────────────────┼─────────────────┤\n",
              "│ dense_7 (<span style=\"color: #0087ff; text-decoration-color: #0087ff\">Dense</span>)                      │ (<span style=\"color: #00d7ff; text-decoration-color: #00d7ff\">None</span>, <span style=\"color: #00af00; text-decoration-color: #00af00\">1</span>)                   │               <span style=\"color: #00af00; text-decoration-color: #00af00\">5</span> │\n",
              "└──────────────────────────────────────┴─────────────────────────────┴─────────────────┘\n",
              "</pre>\n"
            ]
          },
          "metadata": {}
        },
        {
          "output_type": "display_data",
          "data": {
            "text/plain": [
              "\u001b[1m Total params: \u001b[0m\u001b[38;5;34m21\u001b[0m (84.00 B)\n"
            ],
            "text/html": [
              "<pre style=\"white-space:pre;overflow-x:auto;line-height:normal;font-family:Menlo,'DejaVu Sans Mono',consolas,'Courier New',monospace\"><span style=\"font-weight: bold\"> Total params: </span><span style=\"color: #00af00; text-decoration-color: #00af00\">21</span> (84.00 B)\n",
              "</pre>\n"
            ]
          },
          "metadata": {}
        },
        {
          "output_type": "display_data",
          "data": {
            "text/plain": [
              "\u001b[1m Trainable params: \u001b[0m\u001b[38;5;34m21\u001b[0m (84.00 B)\n"
            ],
            "text/html": [
              "<pre style=\"white-space:pre;overflow-x:auto;line-height:normal;font-family:Menlo,'DejaVu Sans Mono',consolas,'Courier New',monospace\"><span style=\"font-weight: bold\"> Trainable params: </span><span style=\"color: #00af00; text-decoration-color: #00af00\">21</span> (84.00 B)\n",
              "</pre>\n"
            ]
          },
          "metadata": {}
        },
        {
          "output_type": "display_data",
          "data": {
            "text/plain": [
              "\u001b[1m Non-trainable params: \u001b[0m\u001b[38;5;34m0\u001b[0m (0.00 B)\n"
            ],
            "text/html": [
              "<pre style=\"white-space:pre;overflow-x:auto;line-height:normal;font-family:Menlo,'DejaVu Sans Mono',consolas,'Courier New',monospace\"><span style=\"font-weight: bold\"> Non-trainable params: </span><span style=\"color: #00af00; text-decoration-color: #00af00\">0</span> (0.00 B)\n",
              "</pre>\n"
            ]
          },
          "metadata": {}
        }
      ]
    },
    {
      "cell_type": "markdown",
      "source": [
        "Example 6: Dense Layer vs. Sparse Connections"
      ],
      "metadata": {
        "id": "eyw8FvKR_4F5"
      }
    },
    {
      "cell_type": "code",
      "source": [
        "from tensorflow.keras.layers import Dense\n",
        "from tensorflow.keras.models import Sequential\n",
        "\n",
        "# Fully connected (Dense) neural network\n",
        "# पूरी तरह से जुड़े हुए न्यूरॉन्स का एक नेटवर्क बना रहे हैं\n",
        "\n",
        "model = Sequential([\n",
        "    Dense(5, activation='relu', input_shape=(3,)),  # Hidden layer with 5 neurons\n",
        "    Dense(1, activation='sigmoid')  # Output neuron\n",
        "])\n",
        "\n",
        "# Display model structure (मॉडल का विवरण दिखाएं)\n",
        "model.summary()\n"
      ],
      "metadata": {
        "colab": {
          "base_uri": "https://localhost:8080/",
          "height": 193
        },
        "id": "ePXzP3p1_40S",
        "outputId": "f9832937-58fd-4237-8fa2-b298148e3dd0"
      },
      "execution_count": 13,
      "outputs": [
        {
          "output_type": "display_data",
          "data": {
            "text/plain": [
              "\u001b[1mModel: \"sequential_5\"\u001b[0m\n"
            ],
            "text/html": [
              "<pre style=\"white-space:pre;overflow-x:auto;line-height:normal;font-family:Menlo,'DejaVu Sans Mono',consolas,'Courier New',monospace\"><span style=\"font-weight: bold\">Model: \"sequential_5\"</span>\n",
              "</pre>\n"
            ]
          },
          "metadata": {}
        },
        {
          "output_type": "display_data",
          "data": {
            "text/plain": [
              "┏━━━━━━━━━━━━━━━━━━━━━━━━━━━━━━━━━━━━━━┳━━━━━━━━━━━━━━━━━━━━━━━━━━━━━┳━━━━━━━━━━━━━━━━━┓\n",
              "┃\u001b[1m \u001b[0m\u001b[1mLayer (type)                        \u001b[0m\u001b[1m \u001b[0m┃\u001b[1m \u001b[0m\u001b[1mOutput Shape               \u001b[0m\u001b[1m \u001b[0m┃\u001b[1m \u001b[0m\u001b[1m        Param #\u001b[0m\u001b[1m \u001b[0m┃\n",
              "┡━━━━━━━━━━━━━━━━━━━━━━━━━━━━━━━━━━━━━━╇━━━━━━━━━━━━━━━━━━━━━━━━━━━━━╇━━━━━━━━━━━━━━━━━┩\n",
              "│ dense_8 (\u001b[38;5;33mDense\u001b[0m)                      │ (\u001b[38;5;45mNone\u001b[0m, \u001b[38;5;34m5\u001b[0m)                   │              \u001b[38;5;34m20\u001b[0m │\n",
              "├──────────────────────────────────────┼─────────────────────────────┼─────────────────┤\n",
              "│ dense_9 (\u001b[38;5;33mDense\u001b[0m)                      │ (\u001b[38;5;45mNone\u001b[0m, \u001b[38;5;34m1\u001b[0m)                   │               \u001b[38;5;34m6\u001b[0m │\n",
              "└──────────────────────────────────────┴─────────────────────────────┴─────────────────┘\n"
            ],
            "text/html": [
              "<pre style=\"white-space:pre;overflow-x:auto;line-height:normal;font-family:Menlo,'DejaVu Sans Mono',consolas,'Courier New',monospace\">┏━━━━━━━━━━━━━━━━━━━━━━━━━━━━━━━━━━━━━━┳━━━━━━━━━━━━━━━━━━━━━━━━━━━━━┳━━━━━━━━━━━━━━━━━┓\n",
              "┃<span style=\"font-weight: bold\"> Layer (type)                         </span>┃<span style=\"font-weight: bold\"> Output Shape                </span>┃<span style=\"font-weight: bold\">         Param # </span>┃\n",
              "┡━━━━━━━━━━━━━━━━━━━━━━━━━━━━━━━━━━━━━━╇━━━━━━━━━━━━━━━━━━━━━━━━━━━━━╇━━━━━━━━━━━━━━━━━┩\n",
              "│ dense_8 (<span style=\"color: #0087ff; text-decoration-color: #0087ff\">Dense</span>)                      │ (<span style=\"color: #00d7ff; text-decoration-color: #00d7ff\">None</span>, <span style=\"color: #00af00; text-decoration-color: #00af00\">5</span>)                   │              <span style=\"color: #00af00; text-decoration-color: #00af00\">20</span> │\n",
              "├──────────────────────────────────────┼─────────────────────────────┼─────────────────┤\n",
              "│ dense_9 (<span style=\"color: #0087ff; text-decoration-color: #0087ff\">Dense</span>)                      │ (<span style=\"color: #00d7ff; text-decoration-color: #00d7ff\">None</span>, <span style=\"color: #00af00; text-decoration-color: #00af00\">1</span>)                   │               <span style=\"color: #00af00; text-decoration-color: #00af00\">6</span> │\n",
              "└──────────────────────────────────────┴─────────────────────────────┴─────────────────┘\n",
              "</pre>\n"
            ]
          },
          "metadata": {}
        },
        {
          "output_type": "display_data",
          "data": {
            "text/plain": [
              "\u001b[1m Total params: \u001b[0m\u001b[38;5;34m26\u001b[0m (104.00 B)\n"
            ],
            "text/html": [
              "<pre style=\"white-space:pre;overflow-x:auto;line-height:normal;font-family:Menlo,'DejaVu Sans Mono',consolas,'Courier New',monospace\"><span style=\"font-weight: bold\"> Total params: </span><span style=\"color: #00af00; text-decoration-color: #00af00\">26</span> (104.00 B)\n",
              "</pre>\n"
            ]
          },
          "metadata": {}
        },
        {
          "output_type": "display_data",
          "data": {
            "text/plain": [
              "\u001b[1m Trainable params: \u001b[0m\u001b[38;5;34m26\u001b[0m (104.00 B)\n"
            ],
            "text/html": [
              "<pre style=\"white-space:pre;overflow-x:auto;line-height:normal;font-family:Menlo,'DejaVu Sans Mono',consolas,'Courier New',monospace\"><span style=\"font-weight: bold\"> Trainable params: </span><span style=\"color: #00af00; text-decoration-color: #00af00\">26</span> (104.00 B)\n",
              "</pre>\n"
            ]
          },
          "metadata": {}
        },
        {
          "output_type": "display_data",
          "data": {
            "text/plain": [
              "\u001b[1m Non-trainable params: \u001b[0m\u001b[38;5;34m0\u001b[0m (0.00 B)\n"
            ],
            "text/html": [
              "<pre style=\"white-space:pre;overflow-x:auto;line-height:normal;font-family:Menlo,'DejaVu Sans Mono',consolas,'Courier New',monospace\"><span style=\"font-weight: bold\"> Non-trainable params: </span><span style=\"color: #00af00; text-decoration-color: #00af00\">0</span> (0.00 B)\n",
              "</pre>\n"
            ]
          },
          "metadata": {}
        }
      ]
    },
    {
      "cell_type": "markdown",
      "source": [
        "In Dense layers, all neurons are connected to each other, while in sparse layers (like CNNs), only a subset of neurons are connected."
      ],
      "metadata": {
        "id": "2HJgvaWZ_-9h"
      }
    },
    {
      "cell_type": "markdown",
      "source": [],
      "metadata": {
        "id": "EpD6kCAY__lR"
      }
    },
    {
      "cell_type": "markdown",
      "source": [
        "1.4 Functional Units of ANN\n",
        "Neural networks are widely used for pattern recognition.\n",
        "\n",
        "Example 7: Perceptron for Binary Classification (AND Gate)"
      ],
      "metadata": {
        "id": "4UwH4b2X__sV"
      }
    },
    {
      "cell_type": "code",
      "source": [
        "import numpy as np\n",
        "from tensorflow.keras.models import Sequential\n",
        "from tensorflow.keras.layers import Dense\n",
        "\n",
        "# Training data for AND gate (AND गेट के लिए इनपुट और आउटपुट)\n",
        "X = np.array([[0, 0], [0, 1], [1, 0], [1, 1]])\n",
        "y = np.array([[0], [0], [0], [1]])  # Expected output (AND गेट का सही आउटपुट)\n",
        "\n",
        "# Creating a perceptron model (परसेप्ट्रॉन मॉडल बना रहे हैं)\n",
        "model = Sequential([\n",
        "    Dense(1, activation='sigmoid', input_shape=(2,))\n",
        "])\n",
        "\n",
        "# Compile the model (मॉडल को संकलित करें)\n",
        "model.compile(optimizer='adam', loss='binary_crossentropy', metrics=['accuracy'])\n",
        "\n",
        "# Train the model (मॉडल को ट्रेन करें)\n",
        "model.fit(X, y, epochs=100, verbose=0)\n",
        "\n",
        "# Predict the output (आउटपुट निकालें)\n",
        "predictions = model.predict(X)\n",
        "print(\"Predictions:\", np.round(predictions))  # Display predictions (प्रेडिक्शन दिखाएं)\n"
      ],
      "metadata": {
        "colab": {
          "base_uri": "https://localhost:8080/"
        },
        "id": "G-_A5_nmACz2",
        "outputId": "0a0f03ec-75ea-4f4e-b461-d477109a0966"
      },
      "execution_count": 14,
      "outputs": [
        {
          "output_type": "stream",
          "name": "stdout",
          "text": [
            "\u001b[1m1/1\u001b[0m \u001b[32m━━━━━━━━━━━━━━━━━━━━\u001b[0m\u001b[37m\u001b[0m \u001b[1m0s\u001b[0m 43ms/step\n",
            "Predictions: [[0.]\n",
            " [1.]\n",
            " [0.]\n",
            " [0.]]\n"
          ]
        }
      ]
    },
    {
      "cell_type": "markdown",
      "source": [],
      "metadata": {
        "id": "7P8-hCMAAPVS"
      }
    },
    {
      "cell_type": "markdown",
      "source": [
        "Example 8: Concept of Epochs and Iterations\n",
        "Epoch: A full pass over the dataset.\n",
        "Iteration: One batch update during training."
      ],
      "metadata": {
        "id": "ihQo8U0ZAP3j"
      }
    },
    {
      "cell_type": "code",
      "source": [
        "import tensorflow as tf\n",
        "import numpy as np\n",
        "\n",
        "# Dummy dataset (एक छोटा डेटा सेट)\n",
        "X = np.array([[1], [2], [3], [4]])  # Input values (इनपुट्स)\n",
        "y = np.array([[2], [4], [6], [8]])  # Expected output (सही आउटपुट) => y = 2x\n",
        "\n",
        "# Define model (मॉडल बनाएं)\n",
        "model = tf.keras.Sequential([\n",
        "    tf.keras.layers.Dense(1, input_shape=(1,))\n",
        "])\n",
        "\n",
        "# Compile model (मॉडल को संकलित करें)\n",
        "model.compile(optimizer='sgd', loss='mean_squared_error')\n",
        "\n",
        "# Train model with multiple epochs (कई बार ट्रेनिंग करें)\n",
        "history = model.fit(X, y, epochs=5, verbose=1)\n"
      ],
      "metadata": {
        "colab": {
          "base_uri": "https://localhost:8080/"
        },
        "id": "f1yhk1uWALqK",
        "outputId": "065ffaa4-7475-4a97-fa17-2dd0ade914c6"
      },
      "execution_count": 15,
      "outputs": [
        {
          "output_type": "stream",
          "name": "stdout",
          "text": [
            "Epoch 1/5\n",
            "\u001b[1m1/1\u001b[0m \u001b[32m━━━━━━━━━━━━━━━━━━━━\u001b[0m\u001b[37m\u001b[0m \u001b[1m0s\u001b[0m 154ms/step - loss: 1.0652\n",
            "Epoch 2/5\n",
            "\u001b[1m1/1\u001b[0m \u001b[32m━━━━━━━━━━━━━━━━━━━━\u001b[0m\u001b[37m\u001b[0m \u001b[1m0s\u001b[0m 45ms/step - loss: 0.7398\n",
            "Epoch 3/5\n",
            "\u001b[1m1/1\u001b[0m \u001b[32m━━━━━━━━━━━━━━━━━━━━\u001b[0m\u001b[37m\u001b[0m \u001b[1m0s\u001b[0m 51ms/step - loss: 0.5140\n",
            "Epoch 4/5\n",
            "\u001b[1m1/1\u001b[0m \u001b[32m━━━━━━━━━━━━━━━━━━━━\u001b[0m\u001b[37m\u001b[0m \u001b[1m0s\u001b[0m 49ms/step - loss: 0.3573\n",
            "Epoch 5/5\n",
            "\u001b[1m1/1\u001b[0m \u001b[32m━━━━━━━━━━━━━━━━━━━━\u001b[0m\u001b[37m\u001b[0m \u001b[1m0s\u001b[0m 51ms/step - loss: 0.2486\n"
          ]
        }
      ]
    }
  ]
}